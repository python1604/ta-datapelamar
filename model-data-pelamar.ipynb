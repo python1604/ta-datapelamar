{
 "cells": [
  {
   "cell_type": "code",
   "execution_count": 1,
   "id": "6d5e41e5",
   "metadata": {},
   "outputs": [],
   "source": [
    "import pandas as pd\n",
    "import numpy as np\n",
    "import matplotlib.pyplot as plt\n",
    "import seaborn as sn\n",
    "\n",
    "\n",
    "from sklearn.preprocessing import LabelEncoder\n",
    "from sklearn import preprocessing\n",
    "from sklearn.model_selection import train_test_split \n",
    "from sklearn.model_selection import GridSearchCV\n",
    "from sklearn.model_selection import cross_val_predict\n",
    "from sklearn.metrics import accuracy_score \n",
    "from sklearn.ensemble import RandomForestClassifier\n",
    "from sklearn.metrics import confusion_matrix, classification_report, roc_auc_score, roc_curve, f1_score, accuracy_score, recall_score, precision_score\n",
    "import pickle"
   ]
  },
  {
   "cell_type": "code",
   "execution_count": 2,
   "id": "ee0d69a3",
   "metadata": {},
   "outputs": [
    {
     "data": {
      "text/html": [
       "<div>\n",
       "<style scoped>\n",
       "    .dataframe tbody tr th:only-of-type {\n",
       "        vertical-align: middle;\n",
       "    }\n",
       "\n",
       "    .dataframe tbody tr th {\n",
       "        vertical-align: top;\n",
       "    }\n",
       "\n",
       "    .dataframe thead th {\n",
       "        text-align: right;\n",
       "    }\n",
       "</style>\n",
       "<table border=\"1\" class=\"dataframe\">\n",
       "  <thead>\n",
       "    <tr style=\"text-align: right;\">\n",
       "      <th></th>\n",
       "      <th>Kota Domisili</th>\n",
       "      <th>Usia</th>\n",
       "      <th>Tingkat Pendidikan</th>\n",
       "      <th>Posisi Yang Dilamar</th>\n",
       "      <th>Pengalaman Pekerjaan</th>\n",
       "      <th>Status Kelengkapan</th>\n",
       "      <th>Tahapan</th>\n",
       "    </tr>\n",
       "  </thead>\n",
       "  <tbody>\n",
       "    <tr>\n",
       "      <th>0</th>\n",
       "      <td>Kota Jakarta Pusat</td>\n",
       "      <td>24.0</td>\n",
       "      <td>S1</td>\n",
       "      <td>Telemarketing</td>\n",
       "      <td>Ada</td>\n",
       "      <td>Lengkap</td>\n",
       "      <td>Tolak</td>\n",
       "    </tr>\n",
       "    <tr>\n",
       "      <th>1</th>\n",
       "      <td>Kota Depok</td>\n",
       "      <td>22.0</td>\n",
       "      <td>S1</td>\n",
       "      <td>Telemarketing</td>\n",
       "      <td>Ada</td>\n",
       "      <td>Tidak Lengkap</td>\n",
       "      <td>Tolak</td>\n",
       "    </tr>\n",
       "    <tr>\n",
       "      <th>2</th>\n",
       "      <td>Kota Tangerang Selatan</td>\n",
       "      <td>24.0</td>\n",
       "      <td>S1</td>\n",
       "      <td>Telemarketing</td>\n",
       "      <td>Ada</td>\n",
       "      <td>Lengkap</td>\n",
       "      <td>Diajukan</td>\n",
       "    </tr>\n",
       "    <tr>\n",
       "      <th>3</th>\n",
       "      <td>Kab. Tangerang</td>\n",
       "      <td>25.0</td>\n",
       "      <td>SMA/SMK</td>\n",
       "      <td>Telesales</td>\n",
       "      <td>Ada</td>\n",
       "      <td>Lengkap</td>\n",
       "      <td>Diajukan</td>\n",
       "    </tr>\n",
       "    <tr>\n",
       "      <th>4</th>\n",
       "      <td>Kota Tangerang Selatan</td>\n",
       "      <td>24.0</td>\n",
       "      <td>SMA/SMK</td>\n",
       "      <td>Sales Marketing</td>\n",
       "      <td>Ada</td>\n",
       "      <td>Lengkap</td>\n",
       "      <td>Diajukan</td>\n",
       "    </tr>\n",
       "  </tbody>\n",
       "</table>\n",
       "</div>"
      ],
      "text/plain": [
       "            Kota Domisili  Usia Tingkat Pendidikan Posisi Yang Dilamar  \\\n",
       "0      Kota Jakarta Pusat  24.0                 S1       Telemarketing   \n",
       "1              Kota Depok  22.0                 S1       Telemarketing   \n",
       "2  Kota Tangerang Selatan  24.0                 S1       Telemarketing   \n",
       "3          Kab. Tangerang  25.0            SMA/SMK           Telesales   \n",
       "4  Kota Tangerang Selatan  24.0            SMA/SMK     Sales Marketing   \n",
       "\n",
       "  Pengalaman Pekerjaan Status Kelengkapan   Tahapan  \n",
       "0                  Ada            Lengkap     Tolak  \n",
       "1                  Ada      Tidak Lengkap     Tolak  \n",
       "2                  Ada            Lengkap  Diajukan  \n",
       "3                  Ada            Lengkap  Diajukan  \n",
       "4                  Ada            Lengkap  Diajukan  "
      ]
     },
     "execution_count": 2,
     "metadata": {},
     "output_type": "execute_result"
    }
   ],
   "source": [
    "df = pd.read_excel('Data Awal.xlsx')\n",
    "df.drop(columns=['Nama', 'Email', 'Alamat Domisili', 'Provinsi Domisili', 'Kecamatan Domisili', 'Kelurahan Domisili', 'Alamat Ktp', 'Provinsi Ktp', 'Kota Ktp', 'Kecamatan Ktp', 'Kelurahan Ktp', 'Tempat Lahir', 'Tanggal Lahir', 'Telp 1', 'Telp 2', 'Institut Pendidikan', 'Bidang Pendidikan', 'Tahun Lulus', 'Nilai Akhir', 'Level', 'Waktu Daftar', 'Tanggal Daftar', 'Bulan Daftar', 'Status', 'Tahun Daftar', 'Gaji Yang Diharapkan', 'Jenis Kelamin', 'Agama'], inplace=True)\n",
    "df.head()"
   ]
  },
  {
   "cell_type": "code",
   "execution_count": 3,
   "id": "9c654c1c",
   "metadata": {},
   "outputs": [
    {
     "data": {
      "text/plain": [
       "0       <30\n",
       "1       <30\n",
       "2       <30\n",
       "3       <30\n",
       "4       <30\n",
       "       ... \n",
       "1150    <30\n",
       "1151    <30\n",
       "1152    <30\n",
       "1153    <30\n",
       "1154    <30\n",
       "Name: Usia, Length: 1155, dtype: object"
      ]
     },
     "execution_count": 3,
     "metadata": {},
     "output_type": "execute_result"
    }
   ],
   "source": [
    "df['Usia'] = df['Usia'].replace((19.0, 20.0, 21.0, 22.0, 23.0, 24.0, 25.0, 25.055307760927743, 26.0, 27.0, 28.0, 29.0, 30.0,), '<30')\n",
    "df['Usia'] = df['Usia'].replace((31.0, 32.0, 33.0, 34.0, 35.0, 36.0, 37.0, 38.0, 39.0, 40.0, 41.0, 42.0, 43.0, 44.0, 45.0, 46.0, 47.0, 48.0, 51.0), '>30')\n",
    "\n",
    "df['Usia']"
   ]
  },
  {
   "cell_type": "code",
   "execution_count": 4,
   "id": "856d6c43",
   "metadata": {},
   "outputs": [
    {
     "data": {
      "text/plain": [
       "0       Luar Wilayah Tangerang\n",
       "1       Luar Wilayah Tangerang\n",
       "2            Wilayah Tangerang\n",
       "3            Wilayah Tangerang\n",
       "4            Wilayah Tangerang\n",
       "                 ...          \n",
       "1150         Wilayah Tangerang\n",
       "1151         Wilayah Tangerang\n",
       "1152    Luar Wilayah Tangerang\n",
       "1153    Luar Wilayah Tangerang\n",
       "1154    Luar Wilayah Tangerang\n",
       "Name: Kota Domisili, Length: 1155, dtype: object"
      ]
     },
     "execution_count": 4,
     "metadata": {},
     "output_type": "execute_result"
    }
   ],
   "source": [
    "df['Kota Domisili'] = df['Kota Domisili'].replace(('Kota Tangerang Selatan', 'Kota Tangerang', 'Kab. Tangerang'), 'Wilayah Tangerang')\n",
    "df['Kota Domisili'] = df['Kota Domisili'].replace(('Kota Depok', 'Kota Jakarta Selatan', 'Kota Jakarta Timur',\n",
    "       'Kota Jakarta Barat', 'Kota Bekasi', 'Kab. Bogor', 'Kota Bogor',\n",
    "       'Kota Jakarta Pusat', 'Kota Jakarta Utara', 'Kab. Lebak',\n",
    "       'Kota Surabaya', 'Kab. Kediri', 'Kab. Sleman', 'Kota Semarang',\n",
    "       'Kab. Bekasi', 'Kota Makassar', 'Kota Sukabumi', 'Kab. Sumedang',\n",
    "       'Kab. Purbalingga', 'Kab. Bandung Barat', 'Kab. Bantul',\n",
    "       'Kota Magelang', 'Kota Kediri', 'Kab. Sukoharjo', 'Kota Bandung',\n",
    "       'Kota Palembang', 'Kab. Sukabumi', 'Kab. Cilacap', 'Kota Cilegon',\n",
    "       'Kab. Lampung Barat', 'Kab. Gresik', 'Kota Serang', 'Kab. Banyuwangi',\n",
    "       'Kab. Garut', 'Kab. Wonogiri', 'Kab. Karawang', 'Kab. Padang Pariaman',\n",
    "       'Kab. Probolinggo', 'Kab. Indramayu', 'Kota Malang',\n",
    "       'Kab. Lombok Tengah', 'Kab. Demak', 'Kota Bandar Lampung',\n",
    "       'Kab. Magetan', 'Kab. Kapuas', 'Kota Padang', 'Kota Palu',\n",
    "       'Kota Pekanbaru', 'Kab. Ponorogo', 'Kota Samarinda',\n",
    "       'Kab. Lampung Timur', 'Kota Denpasar', 'Kab. Boyolali', 'Kota Manado',\n",
    "       'Kab. Gunung Kidul', 'Kab. Pandeglang', 'Kota Cirebon',\n",
    "       'Kota Yogyakarta', 'Kab. Deli Serdang', 'Kab. Banyumas', 'Kab. Lebong'), 'Luar Wilayah Tangerang')\n",
    "\n",
    "df['Kota Domisili']"
   ]
  },
  {
   "cell_type": "code",
   "execution_count": 5,
   "id": "d2d5695c",
   "metadata": {},
   "outputs": [
    {
     "data": {
      "text/plain": [
       "((808, 6), (347, 6), (808,), (347,))"
      ]
     },
     "execution_count": 5,
     "metadata": {},
     "output_type": "execute_result"
    }
   ],
   "source": [
    "X = df.drop(columns='Tahapan')\n",
    "y = df.Tahapan\n",
    "\n",
    "X_train, X_test, y_train, y_test = train_test_split(X, y, test_size = 0.30, stratify=y, random_state = 42)\n",
    "X_train.shape, X_test.shape, y_train.shape, y_test.shape"
   ]
  },
  {
   "cell_type": "code",
   "execution_count": 6,
   "id": "d2d22d0c",
   "metadata": {},
   "outputs": [],
   "source": [
    "from jcopml.pipeline import num_pipe, cat_pipe\n",
    "from sklearn.compose import ColumnTransformer\n",
    "from sklearn.pipeline import Pipeline"
   ]
  },
  {
   "cell_type": "code",
   "execution_count": 7,
   "id": "18263f0f",
   "metadata": {},
   "outputs": [],
   "source": [
    "preprocessor = ColumnTransformer([\n",
    "    ('categoric', cat_pipe(encoder=\"ordinal\"), ['Kota Domisili', 'Usia', 'Tingkat Pendidikan', 'Posisi Yang Dilamar',\n",
    "       'Pengalaman Pekerjaan', 'Status Kelengkapan'])\n",
    "])"
   ]
  },
  {
   "cell_type": "code",
   "execution_count": 8,
   "id": "875a54fb",
   "metadata": {},
   "outputs": [],
   "source": [
    "pipeline = Pipeline([\n",
    "    ('prep', preprocessor),\n",
    "    ('rfc', RandomForestClassifier())    \n",
    "])"
   ]
  },
  {
   "cell_type": "code",
   "execution_count": 9,
   "id": "2dbf16ba",
   "metadata": {},
   "outputs": [],
   "source": [
    "parameter = { \n",
    "    'rfc__n_estimators': [50, 100, 200, 300],\n",
    "    'rfc__max_features': ['auto', 'sqrt', 'log2'],\n",
    "    'rfc__max_depth' : [4,5,6,7,8],\n",
    "    'rfc__criterion' :['entropy', 'gini']    \n",
    "}\n"
   ]
  },
  {
   "cell_type": "code",
   "execution_count": 10,
   "id": "6ae2b6a1",
   "metadata": {},
   "outputs": [
    {
     "name": "stdout",
     "output_type": "stream",
     "text": [
      "Fitting 5 folds for each of 120 candidates, totalling 600 fits\n"
     ]
    },
    {
     "data": {
      "text/plain": [
       "GridSearchCV(cv=5,\n",
       "             estimator=Pipeline(steps=[('prep',\n",
       "                                        ColumnTransformer(transformers=[('categoric',\n",
       "                                                                         Pipeline(steps=[('imputer',\n",
       "                                                                                          SimpleImputer(strategy='most_frequent')),\n",
       "                                                                                         ('ordinal',\n",
       "                                                                                          OrdinalEncoder())]),\n",
       "                                                                         ['Kota '\n",
       "                                                                          'Domisili',\n",
       "                                                                          'Usia',\n",
       "                                                                          'Tingkat '\n",
       "                                                                          'Pendidikan',\n",
       "                                                                          'Posisi '\n",
       "                                                                          'Yang '\n",
       "                                                                          'Dilamar',\n",
       "                                                                          'Pengalaman '\n",
       "                                                                          'Pekerjaan',\n",
       "                                                                          'Status '\n",
       "                                                                          'Kelengkapan'])])),\n",
       "                                       ('rfc', RandomForestClassifier())]),\n",
       "             n_jobs=-1,\n",
       "             param_grid={'rfc__criterion': ['entropy', 'gini'],\n",
       "                         'rfc__max_depth': [4, 5, 6, 7, 8],\n",
       "                         'rfc__max_features': ['auto', 'sqrt', 'log2'],\n",
       "                         'rfc__n_estimators': [50, 100, 200, 300]},\n",
       "             verbose=1)"
      ]
     },
     "execution_count": 10,
     "metadata": {},
     "output_type": "execute_result"
    }
   ],
   "source": [
    "model = GridSearchCV(pipeline, param_grid=parameter, cv= 5, n_jobs=-1, verbose=1)\n",
    "model.fit(X_train, y_train)"
   ]
  },
  {
   "cell_type": "code",
   "execution_count": 11,
   "id": "d27f8d0f",
   "metadata": {},
   "outputs": [
    {
     "name": "stdout",
     "output_type": "stream",
     "text": [
      "{'rfc__criterion': 'entropy', 'rfc__max_depth': 4, 'rfc__max_features': 'auto', 'rfc__n_estimators': 50}\n",
      "0.9603960396039604 0.9603941415535617 0.9567723342939481\n"
     ]
    }
   ],
   "source": [
    "print(model.best_params_)\n",
    "print(model.score(X_train, y_train), model.best_score_, model.score(X_test, y_test))"
   ]
  },
  {
   "cell_type": "code",
   "execution_count": 12,
   "id": "5ff17f2b",
   "metadata": {},
   "outputs": [
    {
     "data": {
      "text/html": [
       "<div>\n",
       "<style scoped>\n",
       "    .dataframe tbody tr th:only-of-type {\n",
       "        vertical-align: middle;\n",
       "    }\n",
       "\n",
       "    .dataframe tbody tr th {\n",
       "        vertical-align: top;\n",
       "    }\n",
       "\n",
       "    .dataframe thead th {\n",
       "        text-align: right;\n",
       "    }\n",
       "</style>\n",
       "<table border=\"1\" class=\"dataframe\">\n",
       "  <thead>\n",
       "    <tr style=\"text-align: right;\">\n",
       "      <th></th>\n",
       "      <th>Kota Domisili</th>\n",
       "      <th>Usia</th>\n",
       "      <th>Tingkat Pendidikan</th>\n",
       "      <th>Posisi Yang Dilamar</th>\n",
       "      <th>Pengalaman Pekerjaan</th>\n",
       "      <th>Status Kelengkapan</th>\n",
       "    </tr>\n",
       "  </thead>\n",
       "  <tbody>\n",
       "    <tr>\n",
       "      <th>0</th>\n",
       "      <td>Luar Wilayah Tangerang</td>\n",
       "      <td>&lt;30</td>\n",
       "      <td>S1</td>\n",
       "      <td>Telemarketing</td>\n",
       "      <td>Ada</td>\n",
       "      <td>Lengkap</td>\n",
       "    </tr>\n",
       "    <tr>\n",
       "      <th>1</th>\n",
       "      <td>Luar Wilayah Tangerang</td>\n",
       "      <td>&lt;30</td>\n",
       "      <td>S1</td>\n",
       "      <td>Telemarketing</td>\n",
       "      <td>Ada</td>\n",
       "      <td>Tidak Lengkap</td>\n",
       "    </tr>\n",
       "  </tbody>\n",
       "</table>\n",
       "</div>"
      ],
      "text/plain": [
       "            Kota Domisili Usia Tingkat Pendidikan Posisi Yang Dilamar  \\\n",
       "0  Luar Wilayah Tangerang  <30                 S1       Telemarketing   \n",
       "1  Luar Wilayah Tangerang  <30                 S1       Telemarketing   \n",
       "\n",
       "  Pengalaman Pekerjaan Status Kelengkapan  \n",
       "0                  Ada            Lengkap  \n",
       "1                  Ada      Tidak Lengkap  "
      ]
     },
     "execution_count": 12,
     "metadata": {},
     "output_type": "execute_result"
    }
   ],
   "source": [
    "X_pred = pd.DataFrame(df, index=[0, 1], columns=X.columns)\n",
    "X_pred"
   ]
  },
  {
   "cell_type": "code",
   "execution_count": 13,
   "id": "3540c427",
   "metadata": {},
   "outputs": [
    {
     "data": {
      "text/plain": [
       "array(['Tolak', 'Tolak'], dtype=object)"
      ]
     },
     "execution_count": 13,
     "metadata": {},
     "output_type": "execute_result"
    }
   ],
   "source": [
    "model.predict(X_pred)"
   ]
  },
  {
   "cell_type": "code",
   "execution_count": 14,
   "id": "ee3adf22",
   "metadata": {},
   "outputs": [
    {
     "data": {
      "text/html": [
       "<div>\n",
       "<style scoped>\n",
       "    .dataframe tbody tr th:only-of-type {\n",
       "        vertical-align: middle;\n",
       "    }\n",
       "\n",
       "    .dataframe tbody tr th {\n",
       "        vertical-align: top;\n",
       "    }\n",
       "\n",
       "    .dataframe thead th {\n",
       "        text-align: right;\n",
       "    }\n",
       "</style>\n",
       "<table border=\"1\" class=\"dataframe\">\n",
       "  <thead>\n",
       "    <tr style=\"text-align: right;\">\n",
       "      <th></th>\n",
       "      <th>Kota Domisili</th>\n",
       "      <th>Usia</th>\n",
       "      <th>Tingkat Pendidikan</th>\n",
       "      <th>Posisi Yang Dilamar</th>\n",
       "      <th>Pengalaman Pekerjaan</th>\n",
       "      <th>Status Kelengkapan</th>\n",
       "      <th>Tahapan</th>\n",
       "    </tr>\n",
       "  </thead>\n",
       "  <tbody>\n",
       "    <tr>\n",
       "      <th>0</th>\n",
       "      <td>Luar Wilayah Tangerang</td>\n",
       "      <td>&lt;30</td>\n",
       "      <td>S1</td>\n",
       "      <td>Telemarketing</td>\n",
       "      <td>Ada</td>\n",
       "      <td>Lengkap</td>\n",
       "      <td>Tolak</td>\n",
       "    </tr>\n",
       "    <tr>\n",
       "      <th>1</th>\n",
       "      <td>Luar Wilayah Tangerang</td>\n",
       "      <td>&lt;30</td>\n",
       "      <td>S1</td>\n",
       "      <td>Telemarketing</td>\n",
       "      <td>Ada</td>\n",
       "      <td>Tidak Lengkap</td>\n",
       "      <td>Tolak</td>\n",
       "    </tr>\n",
       "  </tbody>\n",
       "</table>\n",
       "</div>"
      ],
      "text/plain": [
       "            Kota Domisili Usia Tingkat Pendidikan Posisi Yang Dilamar  \\\n",
       "0  Luar Wilayah Tangerang  <30                 S1       Telemarketing   \n",
       "1  Luar Wilayah Tangerang  <30                 S1       Telemarketing   \n",
       "\n",
       "  Pengalaman Pekerjaan Status Kelengkapan Tahapan  \n",
       "0                  Ada            Lengkap   Tolak  \n",
       "1                  Ada      Tidak Lengkap   Tolak  "
      ]
     },
     "execution_count": 14,
     "metadata": {},
     "output_type": "execute_result"
    }
   ],
   "source": [
    "X_pred[\"Tahapan\"] = model.predict(X_pred)\n",
    "X_pred"
   ]
  },
  {
   "cell_type": "code",
   "execution_count": 28,
   "id": "1764ef34",
   "metadata": {},
   "outputs": [],
   "source": [
    "from jcopml.utils import save_model\n",
    "from jcopml.utils import load_model"
   ]
  },
  {
   "cell_type": "code",
   "execution_count": 29,
   "id": "81650fad",
   "metadata": {},
   "outputs": [
    {
     "name": "stdout",
     "output_type": "stream",
     "text": [
      "Model is pickled as model/model_datapelamar.pkl\n"
     ]
    }
   ],
   "source": [
    "save_model(model, \"model_datapelamar.pkl\")"
   ]
  },
  {
   "cell_type": "code",
   "execution_count": 30,
   "id": "ab274578",
   "metadata": {},
   "outputs": [],
   "source": [
    "model = load_model(\"model/model_datapelamar.pkl\")"
   ]
  },
  {
   "cell_type": "code",
   "execution_count": 31,
   "id": "a6739ffe",
   "metadata": {},
   "outputs": [
    {
     "data": {
      "text/plain": [
       "array(['Tolak', 'Tolak'], dtype=object)"
      ]
     },
     "execution_count": 31,
     "metadata": {},
     "output_type": "execute_result"
    }
   ],
   "source": [
    "model.predict(X_pred)"
   ]
  },
  {
   "cell_type": "code",
   "execution_count": null,
   "id": "ee2c0c2b",
   "metadata": {},
   "outputs": [],
   "source": []
  }
 ],
 "metadata": {
  "kernelspec": {
   "display_name": "Python 3 (ipykernel)",
   "language": "python",
   "name": "python3"
  },
  "language_info": {
   "codemirror_mode": {
    "name": "ipython",
    "version": 3
   },
   "file_extension": ".py",
   "mimetype": "text/x-python",
   "name": "python",
   "nbconvert_exporter": "python",
   "pygments_lexer": "ipython3",
   "version": "3.9.12"
  }
 },
 "nbformat": 4,
 "nbformat_minor": 5
}
