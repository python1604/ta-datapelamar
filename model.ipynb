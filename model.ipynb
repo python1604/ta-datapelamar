{
 "cells": [
  {
   "cell_type": "code",
   "execution_count": null,
   "id": "a01a866b",
   "metadata": {},
   "outputs": [],
   "source": [
    "import pandas as pd\n",
    "from jcopml.utils import load_model\n",
    "from flask import Flask, render_template, request\n",
    "\n",
    "app = Flask(__name__)\n",
    "model = load_model(\"model/model_datapelamar.pkl\")\n",
    "\n",
    "@app.route(\"/\", methods=[\"GET\", \"POST\"])\n",
    "def index():\n",
    "    if request.method == \"GET\":\n",
    "        return render_template( \"upload.html\")\n",
    "    elif request.method == \"POST\":\n",
    "        excel_file = request.files.get(\"file\")\n",
    "        X_test = pd.read_excel(excel_file)\n",
    "        X_test[\"Tahapan\"] = model.predict(X_test)\n",
    "        return X_test.to_html()\n",
    "\n",
    "if __name__ == \"__main__\":\n",
    "    app.run(host=\"0.0.0.0\", port=\"5000\")"
   ]
  }
 ],
 "metadata": {
  "kernelspec": {
   "display_name": "Python 3 (ipykernel)",
   "language": "python",
   "name": "python3"
  },
  "language_info": {
   "codemirror_mode": {
    "name": "ipython",
    "version": 3
   },
   "file_extension": ".py",
   "mimetype": "text/x-python",
   "name": "python",
   "nbconvert_exporter": "python",
   "pygments_lexer": "ipython3",
   "version": "3.9.12"
  }
 },
 "nbformat": 4,
 "nbformat_minor": 5
}
